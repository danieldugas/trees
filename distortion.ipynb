{
 "cells": [
  {
   "cell_type": "code",
   "execution_count": null,
   "metadata": {
    "collapsed": true
   },
   "outputs": [],
   "source": [
    "import skimage\n",
    "import skimage.io\n",
    "import skimage.transform\n",
    "\n",
    "import os\n",
    "import scipy as scp\n",
    "import scipy.misc\n",
    "\n",
    "import numpy as np\n",
    "import logging\n",
    "import tensorflow as tf\n",
    "import sys\n",
    "\n",
    "import matplotlib.pyplot as plt\n",
    "\n",
    "logging.basicConfig(format='%(asctime)s %(levelname)s %(message)s',\n",
    "                    level=logging.INFO,\n",
    "                    stream=sys.stdout)\n",
    "\n",
    "img1 = skimage.io.imread(\"./trees.png\")\n",
    "\n",
    "% matplotlib inline"
   ]
  },
  {
   "cell_type": "code",
   "execution_count": null,
   "metadata": {
    "collapsed": false
   },
   "outputs": [],
   "source": [
    "plt.figure(1)\n",
    "plt.cla()\n",
    "plt.imshow(img1)\n",
    "print(\"Click desired cut position\")\n",
    "#click = plt.ginput()\n",
    "plt.close('all')\n"
   ]
  },
  {
   "cell_type": "code",
   "execution_count": null,
   "metadata": {
    "collapsed": false
   },
   "outputs": [],
   "source": [
    "my_dpi = 72\n",
    "center = (650,358)\n",
    "radius = 642\n",
    "zero_pixel = img1[0,0]\n",
    "img1.shape"
   ]
  },
  {
   "cell_type": "code",
   "execution_count": null,
   "metadata": {
    "collapsed": false
   },
   "outputs": [],
   "source": [
    "indices = np.array([(i,j) for j in range(img1.shape[1]) for i in range(img1.shape[0])])\n",
    "ii = np.array([[i for j in range(img1.shape[1])] for i in range(img1.shape[0])])\n",
    "jj = np.array([[j for j in range(img1.shape[1])] for i in range(img1.shape[0])])"
   ]
  },
  {
   "cell_type": "code",
   "execution_count": null,
   "metadata": {
    "collapsed": false
   },
   "outputs": [],
   "source": [
    "xx = (jj - center[0]) / radius\n",
    "yy = (ii - center[1]) / radius\n",
    "rr = np.sqrt(xx * xx + yy * yy)\n",
    "sr = np.maximum(np.abs(xx/np.max(xx)), np.abs(yy/np.max(yy)))\n",
    "sr = rr * sr + (1-rr) * rr\n",
    "th = np.arctan2(xx, yy)"
   ]
  },
  {
   "cell_type": "code",
   "execution_count": null,
   "metadata": {
    "collapsed": false
   },
   "outputs": [],
   "source": [
    "plt.figure(\"circle\")\n",
    "plt.cla()\n",
    "img2 = img1\n",
    "img2[rr > 1] = 255\n",
    "plt.imshow(img2)\n",
    "plt.axvline(center[0], color='k')\n",
    "plt.axhline(center[1], color='k')\n",
    "plt.show()"
   ]
  },
  {
   "cell_type": "code",
   "execution_count": null,
   "metadata": {
    "collapsed": false
   },
   "outputs": [],
   "source": [
    "plt.contour(xx,yy,th,100,label=\"angle\")\n",
    "plt.contour(xx,yy,sr,100,label=\"square radius\")\n",
    "#plt.contour(xx,yy,rr,100,lable=\"circular radius\")\n",
    "plt.show()"
   ]
  },
  {
   "cell_type": "code",
   "execution_count": null,
   "metadata": {
    "collapsed": true
   },
   "outputs": [],
   "source": [
    "def polar_to_xy(r, theta):\n",
    "    x = r * np.sin(theta)\n",
    "    y = r * np.cos(theta)\n",
    "    return x,y \n",
    "def xy_to_idx(x,y):\n",
    "    center = (650,358)\n",
    "    radius = 642\n",
    "    j = x * radius + center[0]\n",
    "    i = y * radius + center[1]\n",
    "    j = np.round(j).astype(int)\n",
    "    i = np.round(i).astype(int)\n",
    "    return i,j"
   ]
  },
  {
   "cell_type": "code",
   "execution_count": null,
   "metadata": {
    "collapsed": false
   },
   "outputs": [],
   "source": [
    "def find_nearest(array,value, array2, value2):\n",
    "  idx = (np.abs(array-value)+np.abs(array2-value2)).argmin()\n",
    "  return np.unravel_index(idx, array.shape)\n",
    "\n",
    "def create_map():\n",
    "  global img1, ii, indices, sr, rr, th\n",
    "  global progress, STOP\n",
    "  global undist, map_\n",
    "  global xy_to_idx, polar_to_xy\n",
    "  STOP = False\n",
    "\n",
    "  progress = 1/len(indices)\n",
    "  for i,j in indices:\n",
    "    _, _, idx = single_op((i,j), (rr, sr, th, xy_to_idx, polar_to_xy))\n",
    "    map_.append(((i, j), idx))\n",
    "    progress = progress + 1/len(indices)\n",
    "    if STOP:\n",
    "        break\n",
    "\n",
    "def apply_map(img1, map_):\n",
    "  undist = img1 * 0\n",
    "  for (i,j), (dist_i, dist_j) in map_:\n",
    "    if dist_i < 0: dist_i = np.nan\n",
    "    if dist_j < 0: dist_j = np.nan\n",
    "    try:\n",
    "      undist[i,j] = img1[dist_i, dist_j]\n",
    "    except:\n",
    "      undist[i,j] = img1[0,0]\n",
    "  return undist\n",
    "\n",
    "from functools import partial\n",
    "\n",
    "def single_op(ij, fixed_data=None):\n",
    "     rr, sr, th, xy_to_idx, polar_to_xy = fixed_data\n",
    "     i,j = ij\n",
    "     r = sr[i,j]\n",
    "     theta = th[i,j]\n",
    "     x, y = polar_to_xy(r, theta)\n",
    "     idx = xy_to_idx(x,y)\n",
    "     return i,j, idx\n",
    "\n",
    "partial_single_op = partial(single_op, fixed_data=(rr, sr, th, xy_to_idx, polar_to_xy))"
   ]
  },
  {
   "cell_type": "code",
   "execution_count": null,
   "metadata": {
    "collapsed": false
   },
   "outputs": [],
   "source": [
    "import threading\n",
    "\n",
    "map_ = []\n",
    "undist = img1 * 0\n",
    "consumable_indices = list(indices)\n",
    "progress = 0\n",
    "STOP = False\n",
    "\n",
    "\n",
    "t = threading.Thread(target=create_map)\n",
    "t.start()\n"
   ]
  },
  {
   "cell_type": "code",
   "execution_count": null,
   "metadata": {
    "collapsed": false
   },
   "outputs": [],
   "source": [
    "print(progress)\n",
    "a = undist = apply_map(img1, map_)\n",
    "plt.figure(figsize=(20,10))\n",
    "plt.imshow(a, cmap='gray')"
   ]
  },
  {
   "cell_type": "code",
   "execution_count": null,
   "metadata": {
    "collapsed": false
   },
   "outputs": [],
   "source": [
    "STOP = True\n",
    "del t"
   ]
  },
  {
   "cell_type": "code",
   "execution_count": null,
   "metadata": {
    "collapsed": false
   },
   "outputs": [],
   "source": [
    "with open('map.csv','w') as f:\n",
    "    for item in map_:\n",
    "        f.write(item.__str__())\n",
    "        f.write('\\n')"
   ]
  },
  {
   "cell_type": "code",
   "execution_count": null,
   "metadata": {
    "collapsed": false
   },
   "outputs": [],
   "source": [
    "dir_ = './distorted/'\n",
    "dir_out = './undistorted/'\n",
    "if not os.path.exists(dir_out): os.makedirs(dir_out)\n",
    "img_names = os.listdir(dir_)\n",
    "for name in img_names:\n",
    "   distorted = skimage.io.imread(dir_+name)[:,:,0]\n",
    "   undistorted = apply_map(distorted, map_)\n",
    "   skimage.io.imsave(dir_out+name, undistorted)"
   ]
  },
  {
   "cell_type": "markdown",
   "metadata": {},
   "source": [
    "# Vertical Lines"
   ]
  },
  {
   "cell_type": "code",
   "execution_count": null,
   "metadata": {
    "collapsed": true
   },
   "outputs": [],
   "source": [
    "from skimage.transform import (hough_line, hough_line_peaks,\n",
    "                               probabilistic_hough_line)\n",
    "from skimage.feature import canny"
   ]
  },
  {
   "cell_type": "code",
   "execution_count": null,
   "metadata": {
    "collapsed": false
   },
   "outputs": [],
   "source": [
    "plt.figure(\"Lines\", figsize=(20,10))\n",
    "plt.clf()\n",
    "img = skimage.io.imread(dir_+name)\n",
    "plt.imshow(img,cmap='gray' )\n",
    "\n",
    "h, theta, d = hough_line(img)\n",
    "for _, angle, dist in zip(*hough_line_peaks(h, theta, d)):\n",
    "    y0 = (dist - 0 * np.cos(angle)) / np.sin(angle)\n",
    "    y1 = (dist - img.shape[1] * np.cos(angle)) / np.sin(angle)\n",
    "    plt.plot((0, img.shape[1]), (y0, y1), '-r')\n",
    "plt.xlim((0, img.shape[1]))\n",
    "plt.ylim((img.shape[0], 0))\n",
    "del h, theta, d"
   ]
  },
  {
   "cell_type": "code",
   "execution_count": null,
   "metadata": {
    "collapsed": false,
    "scrolled": false
   },
   "outputs": [],
   "source": [
    "dir_ = './undistorted/'\n",
    "dir_out = './lines/'\n",
    "if not os.path.exists(dir_out): os.makedirs(dir_out)\n",
    "#img_names = sorted(os.listdir(dir_))\n",
    "img_names = os.listdir(dir_)\n",
    "for name in img_names:\n",
    "    img = skimage.io.imread(dir_+name)\n",
    "    # Canny Edges\n",
    "    fig = plt.figure(\"Canny edges\", frameon=False, figsize=(img.shape[1]/my_dpi, img.shape[0]/my_dpi), dpi=my_dpi)\n",
    "    plt.clf()\n",
    "    ax = plt.Axes(fig, [0., 0., 1., 1.])\n",
    "    ax.set_axis_off()\n",
    "    fig.add_axes(ax)\n",
    "    edges = canny(img, 2, 1, 25)\n",
    "    plt.imshow(edges, cmap='gray')\n",
    "    # Probabilistic Lines\n",
    "    fig = plt.figure(\"Probabilistic Lines\",frameon=False,\n",
    "                     figsize=(img.shape[1]/my_dpi, img.shape[0]/my_dpi), dpi=my_dpi)\n",
    "    plt.clf()\n",
    "    ax = plt.Axes(fig, [0., 0., 1., 1.])\n",
    "    ax.set_axis_off()\n",
    "    fig.add_axes(ax)\n",
    "    plt.imshow(img, cmap='gray')\n",
    "    lines = probabilistic_hough_line(edges, threshold=10, line_length=10, line_gap=3)\n",
    "    vertical_lines = []\n",
    "    for line in lines:\n",
    "        p0, p1 = line\n",
    "        p1 = np.array(p1)\n",
    "        p0 = np.array(p0)\n",
    "        vec = p1 - p0\n",
    "        if np.abs(vec[1]/(vec[0]+1e-1)) > 2:\n",
    "            vertical_lines.append(line)\n",
    "    for line in vertical_lines:\n",
    "        p0, p1 = line\n",
    "        plt.plot((p0[0], p1[0]), (p0[1], p1[1]), 'red')\n",
    "    plt.xlim((0, img.shape[1]))\n",
    "    plt.ylim((img.shape[0], 0))\n",
    "    plt.savefig(dir_out+name)\n",
    "    plt.show()"
   ]
  },
  {
   "cell_type": "code",
   "execution_count": null,
   "metadata": {
    "collapsed": true
   },
   "outputs": [],
   "source": []
  }
 ],
 "metadata": {
  "anaconda-cloud": {},
  "kernelspec": {
   "display_name": "Python [ml3]",
   "language": "python",
   "name": "Python [ml3]"
  },
  "language_info": {
   "codemirror_mode": {
    "name": "ipython",
    "version": 3
   },
   "file_extension": ".py",
   "mimetype": "text/x-python",
   "name": "python",
   "nbconvert_exporter": "python",
   "pygments_lexer": "ipython3",
   "version": "3.4.5"
  }
 },
 "nbformat": 4,
 "nbformat_minor": 0
}
