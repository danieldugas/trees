{
 "cells": [
  {
   "cell_type": "code",
   "execution_count": null,
   "metadata": {
    "collapsed": false
   },
   "outputs": [],
   "source": [
    "import skimage\n",
    "import skimage.io\n",
    "import skimage.transform\n",
    "\n",
    "import os\n",
    "import scipy as scp\n",
    "import scipy.misc\n",
    "\n",
    "import numpy as np\n",
    "import logging\n",
    "import sys\n",
    "import threading\n",
    "\n",
    "import matplotlib.pyplot as plt\n",
    "from matplotlib import cm\n",
    "%matplotlib inline\n",
    "\n",
    "logging.basicConfig(format='%(asctime)s %(levelname)s %(message)s',\n",
    "                    level=logging.INFO,\n",
    "                    stream=sys.stdout)\n",
    "\n"
   ]
  },
  {
   "cell_type": "code",
   "execution_count": null,
   "metadata": {
    "collapsed": true
   },
   "outputs": [],
   "source": [
    "UNDISTORT_DATASET = False"
   ]
  },
  {
   "cell_type": "code",
   "execution_count": null,
   "metadata": {
    "collapsed": false
   },
   "outputs": [],
   "source": [
    "img1 = skimage.io.imread(\"./trees.png\")\n",
    "plt.figure(1)\n",
    "plt.cla()\n",
    "plt.imshow(img1)\n",
    "print(\"Click desired cut position\")\n",
    "#click = plt.ginput()\n",
    "#plt.close('all')\n"
   ]
  },
  {
   "cell_type": "code",
   "execution_count": null,
   "metadata": {
    "collapsed": false
   },
   "outputs": [],
   "source": [
    "my_dpi = 72\n",
    "center = (650,358)\n",
    "radius = 642.0\n",
    "zero_pixel = img1[0,0]\n",
    "img1.shape"
   ]
  },
  {
   "cell_type": "code",
   "execution_count": null,
   "metadata": {
    "collapsed": true
   },
   "outputs": [],
   "source": [
    "def polar_to_xy(r, theta):\n",
    "    x = r * np.sin(theta)\n",
    "    y = r * np.cos(theta)\n",
    "    return x,y \n",
    "def xy_to_idx(x,y, center=(650,358), radius = 642):\n",
    "    j = x * radius + center[0]\n",
    "    i = y * radius + center[1]\n",
    "    j = np.round(j).astype(int)\n",
    "    i = np.round(i).astype(int)\n",
    "    return i,j"
   ]
  },
  {
   "cell_type": "code",
   "execution_count": null,
   "metadata": {
    "collapsed": false
   },
   "outputs": [],
   "source": [
    "indices = np.array([(i,j) for j in range(img1.shape[1]) for i in range(img1.shape[0])])\n",
    "ii = np.array([[i for j in range(img1.shape[1])] for i in range(img1.shape[0])])\n",
    "jj = np.array([[j for j in range(img1.shape[1])] for i in range(img1.shape[0])])"
   ]
  },
  {
   "cell_type": "markdown",
   "metadata": {},
   "source": [
    "## Square radius method (deprecated)"
   ]
  },
  {
   "cell_type": "code",
   "execution_count": null,
   "metadata": {
    "collapsed": false
   },
   "outputs": [],
   "source": [
    "# square radius method. Move points radially from centric shape to square shape. \n",
    "# Based on polar coordinate, new coordinate preserve polar angle, every concentric circle in original is mapped to a rounded rectangle.\n",
    "# These rounded rectangles progress linearly from pure circles in the center to pure rectangles at the edges.\n",
    "xx = (jj - center[0]) / radius\n",
    "yy = (ii - center[1]) / radius\n",
    "rr = np.sqrt(xx * xx + yy * yy)\n",
    "sr = np.maximum(np.abs(xx/np.max(xx)), np.abs(yy/np.max(yy)))\n",
    "sr = rr * sr + (1-rr) * rr\n",
    "th = np.arctan2(xx, yy)"
   ]
  },
  {
   "cell_type": "code",
   "execution_count": null,
   "metadata": {
    "collapsed": false
   },
   "outputs": [],
   "source": [
    "plt.figure(\"circle\")\n",
    "plt.cla()\n",
    "img2 = img1\n",
    "img2[rr > 1] = 255\n",
    "plt.imshow(img2)\n",
    "plt.axvline(center[0], color='k')\n",
    "plt.axhline(center[1], color='k')\n",
    "plt.show()"
   ]
  },
  {
   "cell_type": "code",
   "execution_count": null,
   "metadata": {
    "collapsed": false,
    "scrolled": true
   },
   "outputs": [],
   "source": [
    "plt.contour(xx,yy,th,100,label=\"angle\")\n",
    "plt.contour(xx,yy,sr,100,label=\"square radius\")\n",
    "plt.show()"
   ]
  },
  {
   "cell_type": "markdown",
   "metadata": {},
   "source": [
    "## Sphere Projection Method"
   ]
  },
  {
   "cell_type": "code",
   "execution_count": null,
   "metadata": {
    "collapsed": true
   },
   "outputs": [],
   "source": [
    "# Maps the image data to a spherical surface. Then projects points on the surface to points on a plane.\n",
    "\n",
    "d = 0.5 # distance between center of sphere and flat surface\n",
    "width = height = 2.0"
   ]
  },
  {
   "cell_type": "code",
   "execution_count": null,
   "metadata": {
    "collapsed": false
   },
   "outputs": [],
   "source": [
    "# Visualize spherical surface\n",
    "\n",
    "import matplotlib.pyplot as plt\n",
    "from matplotlib import cm\n",
    "from mpl_toolkits.mplot3d import Axes3D\n",
    "import numpy as np\n",
    "\n",
    "#theta inclination angle\n",
    "#phi azimuthal angle\n",
    "n_theta = 100 # number of values for theta\n",
    "n_phi = 400  # number of values for phi\n",
    "r = 1        #radius of sphere\n",
    "\n",
    "theta, phi = np.mgrid[0.0:0.5*np.pi:n_theta*1j, 0.0:2.0*np.pi:n_phi*1j]\n",
    "\n",
    "x = r*np.sin(theta)*np.cos(phi)\n",
    "y = r*np.sin(theta)*np.sin(phi)\n",
    "z = r*np.cos(theta)\n",
    "\n",
    "# mimic the input array\n",
    "# array columns phi, theta, value\n",
    "# first n_theta entries: phi=0, second n_theta entries: phi=0.0315..\n",
    "inp = []\n",
    "for j in phi[0,:]:\n",
    "    for i in theta[:,0]:\n",
    "        r = i*2.0/np.pi\n",
    "        l, m = xy_to_idx(*polar_to_xy(r, j), center, radius)\n",
    "        try: \n",
    "            val = img2[l,m][0]\n",
    "        except IndexError: \n",
    "            val = 255\n",
    "        inp.append([j, i, val])\n",
    "inp = np.array(inp)\n",
    "\n",
    "\n",
    "#reshape the input array to the shape of the x,y,z arrays. \n",
    "c = inp[:,2].reshape((n_phi,n_theta)).T\n",
    "\n",
    "\n",
    "#Set colours and render\n",
    "fig = plt.figure(figsize=(10, 8))\n",
    "ax = fig.add_subplot(111, projection='3d')\n",
    "#use facecolors argument, provide array of same shape as z\n",
    "# cm.<cmapname>() allows to get rgba color from array.\n",
    "# array must be normalized between 0 and 1\n",
    "ax.plot_surface(\n",
    "    x,y,z,  rstride=1, cstride=1, facecolors=cm.gray(c/c.max()), alpha=0.9, linewidth=1) \n",
    "ax.set_xlim([-1.1,1.1])\n",
    "ax.set_ylim([-1.1,1.1])\n",
    "ax.set_zlim([0,2.2])\n",
    "ax.set_aspect(\"equal\")\n",
    "#ax.plot_wireframe(x, y, z, color=\"k\") #not needed?!\n",
    "plt.show()"
   ]
  },
  {
   "cell_type": "code",
   "execution_count": null,
   "metadata": {
    "collapsed": false,
    "scrolled": false
   },
   "outputs": [],
   "source": [
    "# Project points from sphere surface onto flat surface above. \n",
    "\n",
    "ww = rr*np.pi / 2.0\n",
    "proj_r = d*np.tan(ww).flatten()\n",
    "proj_x = proj_r*np.sin(th.flatten())\n",
    "proj_y = proj_r*np.cos(th.flatten())\n",
    "proj_pixel = img2[:,:,0].flatten()\n",
    "proj_indices = np.array(np.where(ii*0 == 0)).T\n",
    "crop = np.where((np.abs(proj_x)>width) | (np.abs(proj_y)>height))\n",
    "proj_x = np.delete(proj_x, crop)\n",
    "proj_y = np.delete(proj_y, crop)\n",
    "proj_r = np.delete(proj_r, crop)\n",
    "proj_pixel = np.delete(proj_pixel, crop)\n",
    "proj_indices = np.delete(proj_indices, crop)\n",
    "\n",
    "# Scatter projected pixels (slow, ugly)\n",
    "plt.figure(figsize=(20,10))\n",
    "plt.scatter(proj_x,-proj_y, c=proj_pixel, cmap=cm.gray, marker='s', edgecolors='none')\n",
    "from matplotlib.patches import Rectangle\n",
    "someX, someY = 1, 1\n",
    "currentAxis = plt.gca()\n",
    "currentAxis.add_patch(Rectangle((np.min(xx), np.min(yy)), np.max(xx)-np.min(xx), np.max(yy)-np.min(yy),alpha=1,facecolor='none',edgecolor='red'))\n",
    "plt.show()\n",
    "\n",
    "# Interploate projected pixels to image grid\n",
    "from scipy.interpolate import griddata\n",
    "xvals = xx.flatten()\n",
    "yvals = yy.flatten()\n",
    "imgvals = griddata((proj_x,proj_y), proj_pixel, (xx, yy),method='nearest')\n",
    "plt.figure(figsize=(20,10))\n",
    "plt.imshow(imgvals,cmap=cm.gray)"
   ]
  },
  {
   "cell_type": "code",
   "execution_count": null,
   "metadata": {
    "collapsed": false
   },
   "outputs": [],
   "source": [
    "if UNDISTORT_DATASET:\n",
    "  # use the griddata function to quickly create mapping using the above projection method\n",
    "  map_indices = tuple(griddata((proj_x,proj_y), proj_indices, (xx, yy),method='nearest').reshape((-1,2)).T)"
   ]
  },
  {
   "cell_type": "code",
   "execution_count": null,
   "metadata": {
    "collapsed": false
   },
   "outputs": [],
   "source": [
    "if UNDISTORT_DATASET:\n",
    "  dir_ = './distorted/'\n",
    "  dir_out = './undistorted/'\n",
    "  if not os.path.exists(dir_out): os.makedirs(dir_out)\n",
    "  img_names = os.listdir(dir_)\n",
    "  for name in img_names:\n",
    "     distorted = skimage.io.imread(dir_+name)[:,:,0]\n",
    "     undistorted = distorted[map_indices].reshape(xx.shape)\n",
    "     skimage.io.imsave(dir_out+name, undistorted)"
   ]
  },
  {
   "cell_type": "markdown",
   "metadata": {},
   "source": [
    "# Vertical Lines"
   ]
  },
  {
   "cell_type": "code",
   "execution_count": null,
   "metadata": {
    "collapsed": true
   },
   "outputs": [],
   "source": [
    "from skimage.transform import (hough_line, hough_line_peaks,\n",
    "                               probabilistic_hough_line)\n",
    "from skimage.feature import canny"
   ]
  },
  {
   "cell_type": "code",
   "execution_count": null,
   "metadata": {
    "collapsed": false
   },
   "outputs": [],
   "source": [
    "plt.figure(\"Lines\", figsize=(20,10))\n",
    "plt.clf()\n",
    "dir_ = './undistorted_wald/'\n",
    "name = 'frame0001.jpg'\n",
    "img = skimage.io.imread(dir_+name)\n",
    "plt.imshow(img,cmap='gray' )\n",
    "\n",
    "h, theta, d = hough_line(img)\n",
    "for _, angle, dist in zip(*hough_line_peaks(h, theta, d)):\n",
    "    y0 = (dist - 0 * np.cos(angle)) / np.sin(angle)\n",
    "    y1 = (dist - img.shape[1] * np.cos(angle)) / np.sin(angle)\n",
    "    plt.plot((0, img.shape[1]), (y0, y1), '-r')\n",
    "plt.xlim((0, img.shape[1]))\n",
    "plt.ylim((img.shape[0], 0))"
   ]
  },
  {
   "cell_type": "code",
   "execution_count": null,
   "metadata": {
    "collapsed": false,
    "scrolled": true
   },
   "outputs": [],
   "source": [
    "dir_ = './undistorted_wald/'\n",
    "dir_out = './lines/'\n",
    "if not os.path.exists(dir_out): os.makedirs(dir_out)\n",
    "#img_names = sorted(os.listdir(dir_))\n",
    "img_names = os.listdir(dir_)\n",
    "for name in img_names:\n",
    "    img = skimage.io.imread(dir_+name)\n",
    "    # Canny Edges\n",
    "    fig = plt.figure(\"Canny edges\", frameon=False, figsize=(img.shape[1]/my_dpi, img.shape[0]/my_dpi), dpi=my_dpi)\n",
    "    plt.clf()\n",
    "    ax = plt.Axes(fig, [0., 0., 1., 1.])\n",
    "    ax.set_axis_off()\n",
    "    fig.add_axes(ax)\n",
    "    edges = canny(img, 2, 1, 25)\n",
    "    plt.imshow(edges, cmap='gray')\n",
    "    # Probabilistic Lines\n",
    "    fig = plt.figure(\"Probabilistic Lines\",frameon=False,\n",
    "                     figsize=(img.shape[1]/my_dpi, img.shape[0]/my_dpi), dpi=my_dpi)\n",
    "    plt.clf()\n",
    "    ax = plt.Axes(fig, [0., 0., 1., 1.])\n",
    "    ax.set_axis_off()\n",
    "    fig.add_axes(ax)\n",
    "    plt.imshow(img, cmap='gray')\n",
    "    lines = probabilistic_hough_line(edges, threshold=10, line_length=10, line_gap=3)\n",
    "    vertical_lines = []\n",
    "    for line in lines:\n",
    "        p0, p1 = line\n",
    "        p1 = np.array(p1)\n",
    "        p0 = np.array(p0)\n",
    "        vec = p1 - p0\n",
    "        if np.abs(vec[1]/(vec[0]+1e-1)) > 2:\n",
    "            vertical_lines.append(line)\n",
    "    for line in vertical_lines:\n",
    "        p0, p1 = line\n",
    "        plt.plot((p0[0], p1[0]), (p0[1], p1[1]), 'red')\n",
    "    plt.xlim((0, img.shape[1]))\n",
    "    plt.ylim((img.shape[0], 0))\n",
    "    plt.savefig(dir_out+name)\n",
    "    plt.show()"
   ]
  },
  {
   "cell_type": "code",
   "execution_count": null,
   "metadata": {
    "collapsed": false,
    "scrolled": false
   },
   "outputs": [],
   "source": [
    "dir_ = './undistorted_wald/'\n",
    "dir_out = './lines/'\n",
    "if not os.path.exists(dir_out): os.makedirs(dir_out)\n",
    "#img_names = sorted(os.listdir(dir_))\n",
    "img_names = os.listdir(dir_)\n",
    "name = 'frame0444.jpg'\n",
    "img = skimage.io.imread(dir_+name)\n",
    "# Canny Edges\n",
    "fig = plt.figure(\"Canny edges\", frameon=False, figsize=(img.shape[1]/my_dpi, img.shape[0]/my_dpi), dpi=my_dpi)\n",
    "plt.clf()\n",
    "ax = plt.Axes(fig, [0., 0., 1., 1.])\n",
    "ax.set_axis_off()\n",
    "fig.add_axes(ax)\n",
    "edges = canny(img, sigma=2, low_threshold=1, high_threshold=10)\n",
    "plt.imshow(edges, cmap='gray')\n",
    "# Probabilistic Lines\n",
    "fig = plt.figure(\"Probabilistic Lines\",frameon=False,\n",
    "                 figsize=(img.shape[1]/my_dpi, img.shape[0]/my_dpi), dpi=my_dpi)\n",
    "plt.clf()\n",
    "ax = plt.Axes(fig, [0., 0., 1., 1.])\n",
    "ax.set_axis_off()\n",
    "fig.add_axes(ax)\n",
    "plt.imshow(img, cmap='gray')\n",
    "lines = probabilistic_hough_line(edges, threshold=10, line_length=10, line_gap=10)\n",
    "vertical_lines = []\n",
    "for line in lines:\n",
    "    p0, p1 = line\n",
    "    p1 = np.array(p1)\n",
    "    p0 = np.array(p0)\n",
    "    vec = p1 - p0\n",
    "    if np.abs(vec[1]/(vec[0]+1e-1)) > 2:\n",
    "        vertical_lines.append(line)\n",
    "for line in vertical_lines:\n",
    "    p0, p1 = line\n",
    "    plt.plot((p0[0], p1[0]), (p0[1], p1[1]), 'red')\n",
    "plt.xlim((0, img.shape[1]))\n",
    "plt.ylim((img.shape[0], 0))\n",
    "plt.savefig(dir_out+name)\n",
    "plt.show()"
   ]
  },
  {
   "cell_type": "code",
   "execution_count": null,
   "metadata": {
    "collapsed": false,
    "scrolled": false
   },
   "outputs": [],
   "source": [
    "grad = np.copy(edges)\n",
    "for n in range(5):\n",
    "    fig = plt.figure(\"Gradients\"+str(n), frameon=False, figsize=(img.shape[1]/my_dpi, img.shape[0]/my_dpi), dpi=my_dpi)\n",
    "    plt.clf()\n",
    "    ax = plt.Axes(fig, [0., 0., 1., 1.])\n",
    "    ax.set_axis_off()\n",
    "    fig.add_axes(ax)\n",
    "    plt.imshow(grad, cmap='gray')\n",
    "    grad = vfilter(grad)\n",
    "    plt.show()"
   ]
  },
  {
   "cell_type": "code",
   "execution_count": null,
   "metadata": {
    "collapsed": false
   },
   "outputs": [],
   "source": [
    "def vfilter(edges):\n",
    "    indices = np.array([(i,j) for j in range(1,edges.shape[1]-1) for i in range(1,edges.shape[0]-1)])\n",
    "    result = edges[:,:]\n",
    "    for i,j in indices:\n",
    "        result[i,j] = edges[i,j] and edges[i-1,j-1:j+2].any() and edges[i+1,j-1:j+2].any()\n",
    "    return result\n",
    "        "
   ]
  },
  {
   "cell_type": "code",
   "execution_count": null,
   "metadata": {
    "collapsed": false,
    "scrolled": false
   },
   "outputs": [],
   "source": [
    "\n",
    "up = np.diff(edges,axis=0) == 0\n",
    "vert = (np.pad(up, ((1,0),(0,0)), 'constant', constant_values=0) + \n",
    "        np.pad(up, ((0,1),(0,0)), 'constant', constant_values=0)) * (edges.astype(int))\n",
    "left = np.diff(edges,axis=1) == 0\n",
    "hor =  (np.pad(left, ((0,0),(1,0)), 'constant', constant_values=0) + \n",
    "        np.pad(left, ((0,0),(0,1)), 'constant', constant_values=0)) * (edges.astype(int))\n",
    "\n",
    "fig = plt.figure(\"Updiff\", frameon=False, figsize=(img.shape[1]/my_dpi, img.shape[0]/my_dpi), dpi=my_dpi)\n",
    "plt.clf()\n",
    "ax = plt.Axes(fig, [0., 0., 1., 1.])\n",
    "ax.set_axis_off()\n",
    "fig.add_axes(ax)\n",
    "plt.imshow(vert, cmap='gray')\n",
    "\n",
    "fig = plt.figure(\"Leftdiff\", frameon=False, figsize=(img.shape[1]/my_dpi, img.shape[0]/my_dpi), dpi=my_dpi)\n",
    "plt.clf()\n",
    "ax = plt.Axes(fig, [0., 0., 1., 1.])\n",
    "ax.set_axis_off()\n",
    "fig.add_axes(ax)\n",
    "plt.imshow(hor, cmap='gray')\n",
    "\n",
    "fig = plt.figure(\"vertonly\", frameon=False, figsize=(img.shape[1]/my_dpi, img.shape[0]/my_dpi), dpi=my_dpi)\n",
    "plt.clf()\n",
    "ax = plt.Axes(fig, [0., 0., 1., 1.])\n",
    "ax.set_axis_off()\n",
    "fig.add_axes(ax)\n",
    "vertonly = vert * (hor == 0)\n",
    "plt.imshow(vertonly, cmap='gray')"
   ]
  },
  {
   "cell_type": "code",
   "execution_count": null,
   "metadata": {
    "collapsed": false
   },
   "outputs": [],
   "source": [
    "# Probabilistic Lines\n",
    "fig = plt.figure(\"Probabilistic Lines\",frameon=False,\n",
    "                 figsize=(img.shape[1]/my_dpi, img.shape[0]/my_dpi), dpi=my_dpi)\n",
    "plt.clf()\n",
    "ax = plt.Axes(fig, [0., 0., 1., 1.])\n",
    "ax.set_axis_off()\n",
    "fig.add_axes(ax)\n",
    "plt.imshow(img, cmap='gray')\n",
    "lines = probabilistic_hough_line(vertonly, threshold=20, line_length=50, line_gap=20)\n",
    "vertical_lines = []\n",
    "for line in lines:\n",
    "    p0, p1 = line\n",
    "    p1 = np.array(p1)\n",
    "    p0 = np.array(p0)\n",
    "    vec = p1 - p0\n",
    "    if np.abs(vec[1]/(vec[0]+1e-1)) > 2:\n",
    "        vertical_lines.append(line)\n",
    "for line in vertical_lines:\n",
    "    p0, p1 = line\n",
    "    plt.plot((p0[0], p1[0]), (p0[1], p1[1]), 'red')\n",
    "plt.xlim((0, img.shape[1]))\n",
    "plt.ylim((img.shape[0], 0))\n",
    "plt.show()"
   ]
  },
  {
   "cell_type": "code",
   "execution_count": null,
   "metadata": {
    "collapsed": true
   },
   "outputs": [],
   "source": []
  },
  {
   "cell_type": "code",
   "execution_count": null,
   "metadata": {
    "collapsed": true
   },
   "outputs": [],
   "source": []
  }
 ],
 "metadata": {
  "anaconda-cloud": {},
  "kernelspec": {
   "display_name": "Python 3",
   "language": "python",
   "name": "python3"
  },
  "language_info": {
   "codemirror_mode": {
    "name": "ipython",
    "version": 3
   },
   "file_extension": ".py",
   "mimetype": "text/x-python",
   "name": "python",
   "nbconvert_exporter": "python",
   "pygments_lexer": "ipython3",
   "version": "3.5.2"
  }
 },
 "nbformat": 4,
 "nbformat_minor": 0
}
